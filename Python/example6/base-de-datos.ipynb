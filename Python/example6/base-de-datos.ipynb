{
 "cells": [
  {
   "cell_type": "markdown",
   "metadata": {},
   "source": [
    "## Pasar html a json"
   ]
  },
  {
   "cell_type": "code",
   "execution_count": 155,
   "metadata": {},
   "outputs": [],
   "source": [
    "# 1 nombre\n",
    "# 2 direccion\n",
    "# 3 ubicacion\n",
    "# 4 telefono\n",
    "# 5 email\n",
    "# 6 paginaWeb\n",
    "\n",
    "def row2json(value):\n",
    "    x = value\n",
    "    for r in [\"<h6>\",\"</h6>\",\"<strong>\",\"</strong>\",\"<br />\",\n",
    "              '<span style=\"color: #339966;\">',\"&#8211;\",\"<\",\">\",\"/\"]:\n",
    "        x = x.replace(r,\"\")\n",
    "    l = x.strip('\\n').split('\\n')\n",
    "    if len(l) != 6:\n",
    "        print(len(l),l)\n",
    "        raise NameError('datos incorrectos row2json')\n",
    "    ans = {\n",
    "        \n",
    "        \"nombre\":l[0],\n",
    "        \"direccion\":l[1],\n",
    "        \"ubicacion\":l[2],\n",
    "        \"telefono\":l[3],\n",
    "        \"email\":l[4],\n",
    "        \"paginaWeb\":l[5],\n",
    "    }\n",
    "    return ans\n",
    "\n",
    "# html1json = []\n",
    "# for x in html1:\n",
    "#     html1json.append(row2json(x))\n",
    "# # print(html1json)"
   ]
  },
  {
   "cell_type": "code",
   "execution_count": 115,
   "metadata": {},
   "outputs": [],
   "source": [
    "def getHtml(fileInput):\n",
    "    # criterio para dividir dos instancias es la linea en blanco\n",
    "    html1 =[]\n",
    "    with open(fileInput,\"r\") as archivo:\n",
    "        t = \"\"\n",
    "        i = 0\n",
    "        for x in archivo.readlines():\n",
    "#             print(x,len(x))\n",
    "            if i < 6:\n",
    "                i +=1\n",
    "                if len(x) == 1:\n",
    "                    raise NameError('getHmlt: elento de grupo no puede ser vacio')\n",
    "                t += x\n",
    "                if i == 6:\n",
    "                    html1.append(t)\n",
    "            else:\n",
    "                i = 0\n",
    "                t = \"\"\n",
    "                if len(x) != 1:\n",
    "                    raise NameError('getHmlt: Sexto elemnto no es vacio')\n",
    "    return html1\n",
    "# r = getHtml(\"input.txt\")\n",
    "# print(r[1].split('\\n'))"
   ]
  },
  {
   "cell_type": "code",
   "execution_count": 116,
   "metadata": {},
   "outputs": [],
   "source": [
    "# print(html1[1].split('\\n'))"
   ]
  },
  {
   "cell_type": "code",
   "execution_count": 117,
   "metadata": {},
   "outputs": [],
   "source": [
    "# nombre\n",
    "# direccion\n",
    "# ubicacion\n",
    "# telefono\n",
    "# email\n",
    "# paginaWeb\n",
    "\n",
    "# # odontologicas\n",
    "# html1 = [\n",
    "#     \"\"\"<h6><strong>IMPLANTODONT</strong><br />\n",
    "# Calle Bolívar 472 – Oficinas 1101, 1001 –<br />\n",
    "# Miraflores.<br />\n",
    "# Teléfonos: 241-1071 Cel.981-079999 Nextel.107*9999<br />\n",
    "# -\n",
    "# www.implantodont.com</h6>\"\"\",\n",
    "#     \"\"\"<h6><strong>CLÍNICA DENTAL FLORES</strong><br />\n",
    "# Calle Centauro, 177<br />\n",
    "# Santiago De Surco<br />\n",
    "# Teléfonos: 435-2153 / 435-2484 / 434-1620<br />\n",
    "# Email: clinicaflores@dentalaser.net<br />\n",
    "# www.clinicaflores.com</h6>\"\"\",\n",
    "#     \"\"\"<h6><strong>CLÍNICA DENTAL SONREIR</strong><br />\n",
    "# Avenida 28 De Julio, 553<br />\n",
    "# Miraflores.<br />\n",
    "# Teléfonos: 242-8439 / 447-9888<br />\n",
    "# -\n",
    "# www.sonreir.com.pe</h6>\"\"\",\n",
    "#     \"\"\"<h6><strong>ODONTOFRESH</strong><br />\n",
    "# Avenida Caminos Del Inca, 1138 &#8211; \n",
    "# Santiago De Surco – Lima<br />\n",
    "# Teléfonos: 273-7705<br />\n",
    "# Email:<br />\n",
    "# www.odontofresh.pe</h6>\"\"\",\n",
    "#     \"\"\"<h6><strong>CENTRORAL ESTÉTICA DENTAL LÁSER</strong><br />\n",
    "# Avenida Caminos Del Inca, 1223 –<br />\n",
    "# Santiago De Surco<br />\n",
    "# Teléfonos: 372-1080 / 372-1081<br />\n",
    "# -\n",
    "# www.centroral.com</h6>\"\"\",\"\"\"<h6><strong>PRODENT</strong><br />\n",
    "# Avenida Javier Prado Este, 1812 &#8211; 201<br />\n",
    "# San Borja<br />\n",
    "# Teléfonos: 226-5840<br />\n",
    "# -\n",
    "# www.prodent.com.pe</h6>\"\"\"\n",
    "# ]\n",
    "html1 = getHtml(\"input1.txt\")"
   ]
  },
  {
   "cell_type": "code",
   "execution_count": 118,
   "metadata": {},
   "outputs": [],
   "source": [
    "html1json = []\n",
    "for x in html1:\n",
    "    html1json.append(row2json(x))\n",
    "# print(html1json)"
   ]
  },
  {
   "cell_type": "markdown",
   "metadata": {},
   "source": [
    "## Individuals a owl"
   ]
  },
  {
   "cell_type": "code",
   "execution_count": 66,
   "metadata": {},
   "outputs": [],
   "source": [
    "# # todos los individuos\n",
    "# individuals = [\n",
    "#     {\n",
    "#         \"NamedIndividual\":\"CentroDeAtencion2\",\n",
    "#         \"rdf\":\"ClinicasOdontologicas\",\n",
    "#         \"direccion\":\"Av. Juan De Arona No. 425 – San Isidro\",\n",
    "#         \"ubicacion\":\"MIRAFLORES\",\n",
    "#         \"nombre\":\"CENTRO ODONTOLOGICO AMERICANO\",\n",
    "#         \"telefono\":\"421-6323\",\n",
    "#         \"email\":\"cdelgado@odontoamericano.com.pe\",\n",
    "#         \"paginaWeb\":\"www.odontoamericano.com.pe\"\n",
    "#     }\n",
    "# ]"
   ]
  },
  {
   "cell_type": "code",
   "execution_count": 140,
   "metadata": {
    "collapsed": true
   },
   "outputs": [],
   "source": [
    "template1 = \"\"\"    <!-- http://www.semanticweb.org/danny/ontologies/2020/10/untitled-ontology-5#CentroDeAtencion2 -->\n",
    "\n",
    "    <owl:NamedIndividual rdf:about=\"http://www.semanticweb.org/danny/ontologies/2020/10/untitled-ontology-5#CentroDeAtencion2\">\n",
    "        <rdf:type rdf:resource=\"http://www.semanticweb.org/danny/ontologies/2020/10/untitled-ontology-5#ClinicasOdontologicas\"/>\n",
    "        <direccion rdf:datatype=\"http://www.w3.org/2001/XMLSchema#string\">Av. Juan De Arona No. 425 – San Isidro</direccion>\n",
    "        <ubicacion rdf:datatype=\"http://www.w3.org/2001/XMLSchema#string\">MIRAFLORES</ubicacion>\n",
    "        <email rdf:datatype=\"http://www.w3.org/2001/XMLSchema#string\">cdelgado@odontoamericano.com.pe</email>\n",
    "        <nombre rdf:datatype=\"http://www.w3.org/2001/XMLSchema#string\">CENTRO ODONTOLOGICO AMERICANO</nombre>\n",
    "        <paginaWeb rdf:datatype=\"http://www.w3.org/2001/XMLSchema#string\">www.odontoamericano.com.pe</paginaWeb>\n",
    "        <telefono rdf:datatype=\"http://www.w3.org/2001/XMLSchema#string\">421-6323</telefono>\n",
    "    </owl:NamedIndividual>\"\"\"\n",
    "template1 = \"\"\"    <!-- http://www.semanticweb.org/danny/ontologies/2020/10/untitled-ontology-5#{NamedIndividual} -->\n",
    "\n",
    "    <owl:NamedIndividual rdf:about=\"http://www.semanticweb.org/danny/ontologies/2020/10/untitled-ontology-5#{NamedIndividual}\">\n",
    "        <rdf:type rdf:resource=\"http://www.semanticweb.org/danny/ontologies/2020/10/untitled-ontology-5#{rdf}\"/>\n",
    "        <direccion rdf:datatype=\"http://www.w3.org/2001/XMLSchema#string\">{direccion}</direccion>\n",
    "        <ubicacion rdf:datatype=\"http://www.w3.org/2001/XMLSchema#string\">{ubicacion}</ubicacion>\n",
    "        <email rdf:datatype=\"http://www.w3.org/2001/XMLSchema#string\">{email}</email>\n",
    "        <nombre rdf:datatype=\"http://www.w3.org/2001/XMLSchema#string\">{nombre}</nombre>\n",
    "        <paginaWeb rdf:datatype=\"http://www.w3.org/2001/XMLSchema#string\">{paginaWeb}</paginaWeb>\n",
    "        <telefono rdf:datatype=\"http://www.w3.org/2001/XMLSchema#string\">{telefono}</telefono>\n",
    "    </owl:NamedIndividual>\"\"\""
   ]
  },
  {
   "cell_type": "code",
   "execution_count": 120,
   "metadata": {
    "collapsed": true
   },
   "outputs": [],
   "source": [
    "def getInstancia(template,value):\n",
    "    return template.format(\n",
    "        NamedIndividual=value[\"NamedIndividual\"],\n",
    "        rdf=value[\"rdf\"],\n",
    "        direccion=value[\"direccion\"],\n",
    "        ubicacion=value[\"ubicacion\"],\n",
    "        email=value[\"email\"],\n",
    "        nombre=value[\"nombre\"],\n",
    "        paginaWeb=value[\"paginaWeb\"],\n",
    "        telefono=value[\"telefono\"],\n",
    "    )"
   ]
  },
  {
   "cell_type": "code",
   "execution_count": 131,
   "metadata": {},
   "outputs": [],
   "source": [
    "def getInstancias(NamedIndividual,rdf,lista):\n",
    "    ans = []\n",
    "    i = 0\n",
    "    for x in lista:\n",
    "        i += 1\n",
    "        x['NamedIndividual'] = NamedIndividual+str(i)\n",
    "        x['rdf'] = rdf\n",
    "        ans.append(getInstancia(template1,x))\n",
    "    return ans\n",
    "# t=getInstancias(\"CentroDeAtencion2\",\"ClinicasOdontologicas\",html1json)\n",
    "# # print(t)\n",
    "# with open(\"salida.txt\",\"w\") as archivo:\n",
    "#     for x in t:\n",
    "#         archivo.write(x)\n",
    "#         archivo.write(\"\\n\"*4)\n",
    "#     archivo.close()"
   ]
  },
  {
   "cell_type": "code",
   "execution_count": 132,
   "metadata": {
    "collapsed": true
   },
   "outputs": [],
   "source": [
    "# todo el proceso asumiento q html1 existe\n",
    "def writeGrupo(NamedIndividual,rdf,fileInput,fileOutput):\n",
    "    html1 = getHtml(fileInput)        \n",
    "    html1json = []\n",
    "    for x in html1:\n",
    "        html1json.append(row2json(x))\n",
    "    t=getInstancias(NamedIndividual,rdf,html1json)\n",
    "    with open(fileOutput,\"w\") as archivo:\n",
    "        for x in t:\n",
    "            archivo.write(x)\n",
    "            archivo.write(\"\\n\"*4)\n",
    "        archivo.close()"
   ]
  },
  {
   "cell_type": "code",
   "execution_count": null,
   "metadata": {
    "collapsed": true
   },
   "outputs": [],
   "source": [
    "# html1json = []\n",
    "# for x in html1:\n",
    "#     html1json.append(row2json(x))\n",
    "# # print(html1json)"
   ]
  },
  {
   "cell_type": "code",
   "execution_count": 156,
   "metadata": {},
   "outputs": [],
   "source": [
    "# 1 nombre\n",
    "# 2 direccion\n",
    "# 3 ubicacion\n",
    "# 4 telefono\n",
    "# 5 email\n",
    "# 6 paginaWeb\n",
    "\n",
    "clase = \"CentroMedicoYLaboratorioDeApoyo\"\n",
    "\n",
    "fileInput = clase+\".in\"\n",
    "fileOutput = clase+\".ou\"\n",
    "writeGrupo(clase,clase,fileInput,fileOutput)"
   ]
  }
 ],
 "metadata": {
  "kernelspec": {
   "display_name": "Python 3",
   "language": "python",
   "name": "python3"
  },
  "language_info": {
   "codemirror_mode": {
    "name": "ipython",
    "version": 3
   },
   "file_extension": ".py",
   "mimetype": "text/x-python",
   "name": "python",
   "nbconvert_exporter": "python",
   "pygments_lexer": "ipython3",
   "version": "3.6.3"
  }
 },
 "nbformat": 4,
 "nbformat_minor": 2
}
