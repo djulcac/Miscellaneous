{
 "cells": [
  {
   "cell_type": "code",
   "execution_count": 7,
   "metadata": {},
   "outputs": [
    {
     "name": "stdout",
     "output_type": "stream",
     "text": [
      "11 1\n",
      "11 1\n"
     ]
    }
   ],
   "source": [
    "import os\n",
    "import re\n",
    "\n",
    "def getHijos(archivoNombre):\n",
    "    hijos = []\n",
    "    root = os.path.dirname(archivoNombre)\n",
    "    with open(archivoNombre,\"r\") as archivo:\n",
    "        for x in archivo.readlines():\n",
    "            hijos = hijos + re.findall(\"\"\"require\\([\\'\\\"](\\.{1,2}\\/.*?)[\\'\\\"]\\)\"\"\", x)\n",
    "#     print('hijos1:',hijos)\n",
    "    ans = []\n",
    "    for x in hijos:\n",
    "        ans.append(os.path.realpath(os.path.join(root,x)))\n",
    "#     print('hijos2:',ans)\n",
    "    return ans\n",
    "\n",
    "def getGrafo(archivoInicio):\n",
    "    \"\"\"\n",
    "    Return\n",
    "        dic\n",
    "            key: archivo\n",
    "            array de archivos\n",
    "    \"\"\"\n",
    "    nombreReal = os.path.realpath(archivoInicio)\n",
    "#     root = os.path.dirname(nombreReal)\n",
    "    grafo = {}\n",
    "    visitado = {}\n",
    "#     print(77,nombreReal)\n",
    "#     print(88,root)\n",
    "    visitado[nombreReal] = 1\n",
    "    i = 0\n",
    "    while len(visitado) > 0:\n",
    "        print(11,len(visitado))\n",
    "        i += 1\n",
    "        if i > 10:\n",
    "            print(i)\n",
    "#             break\n",
    "        padre = list(visitado.keys())[0]\n",
    "        visitado.pop(padre)\n",
    "        grafo[padre] = []\n",
    "#         print('getHijos',padre)\n",
    "        for x in getHijos(padre):\n",
    "            #hijo = os.path.realpath(os.path.join(root,x)) + '.js'\n",
    "            hijo = x + '.js'\n",
    "            grafo[padre].append(hijo)\n",
    "            if not hijo in grafo:\n",
    "#                 print('continue')\n",
    "#             else:\n",
    "#                 print('else')\n",
    "                visitado[hijo] = 1\n",
    "    return grafo\n",
    "g = getGrafo('./app/index.js')\n",
    "# print(g)"
   ]
  },
  {
   "cell_type": "code",
   "execution_count": 8,
   "metadata": {
    "collapsed": true
   },
   "outputs": [],
   "source": [
    "# limpiar repetitivos\n",
    "for x in g:\n",
    "#     print(x)\n",
    "#     print(g[x])\n",
    "    g[x] = list(set(g[x]))\n",
    "#     print(1,x,g[x])"
   ]
  },
  {
   "cell_type": "code",
   "execution_count": 9,
   "metadata": {
    "collapsed": true
   },
   "outputs": [],
   "source": [
    "# id\n",
    "drawId = {}\n",
    "drawXY = {}\n",
    "i = 50\n",
    "for x in g:\n",
    "    drawId[x] = i\n",
    "    drawXY[x] = {\"x\":0,\"y\":0}\n",
    "    i += 1"
   ]
  },
  {
   "cell_type": "code",
   "execution_count": 10,
   "metadata": {
    "collapsed": true
   },
   "outputs": [],
   "source": [
    "def getNodo(nodo,x,y):\n",
    "    ans = f\"\"\"\n",
    "                <mxCell id=\"{drawId[nodo]}\" value=\"{nodo}\" style=\"ellipse;whiteSpace=wrap;html=1;\" parent=\"1\" vertex=\"1\"> \n",
    "                        <mxGeometry x=\"{int(x)}\" y=\"{int(y)}\" width=\"120\" height=\"80\" as=\"geometry\"/>\n",
    "                </mxCell>        \n",
    "                    \"\"\"\n",
    "    return ans\n",
    "\n",
    "# def getArista(padre,hijo,idArista):\n",
    "#     return f\"\"\"\n",
    "#                 <mxCell id=\"{idArista}\" style=\"edgeStyle=orthogonalEdgeStyle;rounded=0;orthogonalLoop=1;jettySize=auto;html=1;\" parent=\"1\" source=\"{drawId[padre]}\" target=\"{drawId[hijo]}\" edge=\"1\">\n",
    "#                     <mxGeometry relative=\"1\" as=\"geometry\"/>\n",
    "#                 </mxCell>\"\"\"\n",
    "\n",
    "def getArista(padre,hijo,idArista):\n",
    "    return f\"\"\"\n",
    "                <mxCell id=\"{idArista}\" style=\"edgeStyle=orthogonalEdgeStyle;rounded=0;orthogonalLoop=1;jettySize=auto;html=1;\" parent=\"1\" source=\"{drawId[padre]}\" target=\"{drawId[hijo]}\" edge=\"1\">\n",
    "                    <mxGeometry relative=\"1\" as=\"geometry\"/>\n",
    "                </mxCell>\"\"\""
   ]
  },
  {
   "cell_type": "code",
   "execution_count": 13,
   "metadata": {},
   "outputs": [],
   "source": [
    "t = max(drawId)\n",
    "# print(t,drawId[t]) #"
   ]
  },
  {
   "cell_type": "code",
   "execution_count": 17,
   "metadata": {},
   "outputs": [
    {
     "name": "stdout",
     "output_type": "stream",
     "text": [
      "\n"
     ]
    }
   ],
   "source": [
    "# drawId\n",
    "import os\n",
    "\n",
    "def bfs(grafo,inicio,x,y):\n",
    "    padre = os.path.realpath(inicio)\n",
    "    visitado = {}\n",
    "    procesado = {}\n",
    "    visitado[padre] = 1\n",
    "    procesado[padre] = 1\n",
    "#     drawIdUltimo = drawId[max(drawId)]+10\n",
    "    drawIdUltimo = 0\n",
    "    for value in drawId:\n",
    "        if drawId[value] > drawIdUltimo:\n",
    "            drawIdUltimo = drawId[value]\n",
    "#             print(type(drawIdUltimo),drawIdUltimo)\n",
    "    drawIdUltimo += 1\n",
    "#     print(type(drawIdUltimo),drawIdUltimo)\n",
    "    drawXY[padre] = {\"x\":0,\"y\":0}\n",
    "    print(getNodo(padre,drawXY[padre][\"x\"],drawXY[padre][\"y\"]))\n",
    "    while len(procesado) > 0:\n",
    "        padre = list(procesado.keys())[0]\n",
    "        procesado.pop(padre)\n",
    "        i = 0\n",
    "        for hijo in grafo[padre]:\n",
    "            print(getArista(padre,hijo,drawIdUltimo))\n",
    "            drawIdUltimo += 1\n",
    "            if not hijo in visitado:\n",
    "                visitado[hijo] = 1\n",
    "                procesado[hijo] = 1\n",
    "#                 print(1,padre, grafo[padre])\n",
    "#                 print(11,hijo, grafo[hijo])\n",
    "#                 print(2,type(i-len(grafo[padre])),i-len(grafo[padre]))\n",
    "#                 print(22,type(x),x)\n",
    "#                 print(3,type(drawXY[padre][\"x\"]),drawXY[padre][\"x\"])\n",
    "                drawXY[hijo] = {\n",
    "#                     \"x\" : int(drawXY[padre][\"x\"]+(i-len(grafo[padre])/2)*x),\n",
    "                    \"x\" : int(drawXY[padre][\"x\"]+(i-len(grafo[padre])/2)*x),\n",
    "                    \"y\" : int(drawXY[padre][\"y\"]+y)\n",
    "                }\n",
    "#                 print(type(drawXY[hijo]),drawXY)\n",
    "                print(getNodo(hijo,drawXY[hijo][\"x\"],drawXY[hijo][\"y\"]))\n",
    "            i += 1\n",
    "    return True\n",
    "\n",
    "# generar vertices\n",
    "# for v in drawId:\n",
    "#     print(getNodo(v))\n",
    "ans = bfs(g,'./app/index.js',120*2,120*2)\n",
    "# print(ans)"
   ]
  },
  {
   "cell_type": "markdown",
   "metadata": {},
   "source": [
    "Se copia y se agrega a la base .drawio "
   ]
  }
 ],
 "metadata": {
  "kernelspec": {
   "display_name": "Python 3",
   "language": "python",
   "name": "python3"
  },
  "language_info": {
   "codemirror_mode": {
    "name": "ipython",
    "version": 3
   },
   "file_extension": ".py",
   "mimetype": "text/x-python",
   "name": "python",
   "nbconvert_exporter": "python",
   "pygments_lexer": "ipython3",
   "version": "3.6.3"
  }
 },
 "nbformat": 4,
 "nbformat_minor": 2
}
