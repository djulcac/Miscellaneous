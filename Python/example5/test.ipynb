{
 "cells": [
  {
   "cell_type": "code",
   "execution_count": 7,
   "metadata": {},
   "outputs": [
    {
     "name": "stdout",
     "output_type": "stream",
     "text": [
      "11 1\n",
      "11 1\n"
     ]
    }
   ],
   "source": [
    "import os\n",
    "import re\n",
    "\n",
    "def getHijos(archivoNombre):\n",
    "    hijos = []\n",
    "    root = os.path.dirname(archivoNombre)\n",
    "    with open(archivoNombre,\"r\") as archivo:\n",
    "        for x in archivo.readlines():\n",
    "            hijos = hijos + re.findall(\"\"\"require\\([\\'\\\"](\\.{1,2}\\/.*?)[\\'\\\"]\\)\"\"\", x)\n",
    "#     print('hijos1:',hijos)\n",
    "    ans = []\n",
    "    for x in hijos:\n",
    "        ans.append(os.path.realpath(os.path.join(root,x)))\n",
    "#     print('hijos2:',ans)\n",
    "    return ans\n",
    "\n",
    "def getGrafo(archivoInicio):\n",
    "    \"\"\"\n",
    "    Return\n",
    "        dic\n",
    "            key: archivo\n",
    "            array de archivos\n",
    "    \"\"\"\n",
    "    nombreReal = os.path.realpath(archivoInicio)\n",
    "#     root = os.path.dirname(nombreReal)\n",
    "    grafo = {}\n",
    "    visitado = {}\n",
    "#     print(77,nombreReal)\n",
    "#     print(88,root)\n",
    "    visitado[nombreReal] = 1\n",
    "    i = 0\n",
    "    while len(visitado) > 0:\n",
    "        print(11,len(visitado))\n",
    "        i += 1\n",
    "        if i > 10:\n",
    "            print(i)\n",
    "#             break\n",
    "        padre = list(visitado.keys())[0]\n",
    "        visitado.pop(padre)\n",
    "        grafo[padre] = []\n",
    "#         print('getHijos',padre)\n",
    "        for x in getHijos(padre):\n",
    "            #hijo = os.path.realpath(os.path.join(root,x)) + '.js'\n",
    "            hijo = x + '.js'\n",
    "            grafo[padre].append(hijo)\n",
    "            if not hijo in grafo:\n",
    "#                 print('continue')\n",
    "#             else:\n",
    "#                 print('else')\n",
    "                visitado[hijo] = 1\n",
    "    return grafo\n",
    "g = getGrafo('./app/index.js')\n",
    "# print(g)"
   ]
  },
  {
   "cell_type": "code",
   "execution_count": 8,
   "metadata": {
    "collapsed": true
   },
   "outputs": [],
   "source": [
    "# limpiar repetitivos\n",
    "for x in g:\n",
    "#     print(x)\n",
    "#     print(g[x])\n",
    "    g[x] = list(set(g[x]))\n",
    "#     print(1,x,g[x])"
   ]
  }
 ],
 "metadata": {
  "kernelspec": {
   "display_name": "Python 3",
   "language": "python",
   "name": "python3"
  },
  "language_info": {
   "codemirror_mode": {
    "name": "ipython",
    "version": 3
   },
   "file_extension": ".py",
   "mimetype": "text/x-python",
   "name": "python",
   "nbconvert_exporter": "python",
   "pygments_lexer": "ipython3",
   "version": "3.6.3"
  }
 },
 "nbformat": 4,
 "nbformat_minor": 2
}
